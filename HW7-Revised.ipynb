{
 "cells": [
  {
   "cell_type": "code",
   "execution_count": 1,
   "metadata": {},
   "outputs": [],
   "source": [
    "# Dependencies\n",
    "import tweepy\n",
    "import numpy as np\n",
    "import pandas as pd\n",
    "from datetime import datetime\n",
    "import matplotlib.pyplot as plt\n",
    "import time as time\n",
    "from matplotlib import style\n",
    "import seaborn as sns"
   ]
  },
  {
   "cell_type": "code",
   "execution_count": 2,
   "metadata": {},
   "outputs": [],
   "source": [
    "# Import and Initialize Sentiment Analyzer\n",
    "from vaderSentiment.vaderSentiment import SentimentIntensityAnalyzer\n",
    "analyzer = SentimentIntensityAnalyzer()\n",
    "\n",
    "# Twitter API Keys\n",
    "consumer_key = \"9ihdLuFUuxxECzaualLWgw5DW\"\n",
    "consumer_secret = \"nKARLOqDPU1UpPzi9YOwKpr4YET3BwpJvq9rJU60czX4RJVIYY\"\n",
    "access_token = \"20568408-UMkSqRe0mk2SiwzBhgegndARmYC51CAUpdycwNC3Q\"\n",
    "access_token_secret = \"Cs3o6E1MPoUhb5gaW6XY28TjAGkZaqLVvzJXC9BLUtZ5Y\"\n",
    "\n",
    "# Setup Tweepy API Authentication\n",
    "auth = tweepy.OAuthHandler(consumer_key, consumer_secret)\n",
    "auth.set_access_token(access_token, access_token_secret)\n",
    "api = tweepy.API(auth, parser=tweepy.parsers.JSONParser())"
   ]
  },
  {
   "cell_type": "code",
   "execution_count": 3,
   "metadata": {},
   "outputs": [],
   "source": [
    "# Target User Accounts\n",
    "target_user = (\"@BBCWorld\", \"@CBSNews\", \"@CNN\", \"@FoxNews\", \"@nytimes\")\n",
    "\n",
    "# Counter\n",
    "counter = 1\n",
    "\n",
    "# List for dictionaries of results\n",
    "results_list = []\n",
    "tweets_ago = []\n",
    "username_list = []\n",
    "compound_list = []\n",
    "positive_list = []\n",
    "negative_list = []\n",
    "neutral_list = []\n",
    "\n",
    "\n",
    "# Loop through each user\n",
    "for user in target_user:\n",
    "    \n",
    "    counter = 0\n",
    "\n",
    "    # Loop through 5 pages of tweets (total 100 tweets)\n",
    "    for x in range(1, 6):\n",
    "\n",
    "        # Get all tweets from home feed\n",
    "        public_tweets = api.user_timeline(user, page=x)\n",
    "\n",
    "        # Loop through all tweets\n",
    "        for tweet in public_tweets:\n",
    "\n",
    "            # Run Vader Analysis on each tweet\n",
    "            results = analyzer.polarity_scores(tweet[\"text\"])           \n",
    "            compound = results[\"compound\"]\n",
    "            pos = results[\"pos\"]\n",
    "            neu = results[\"neu\"]\n",
    "            neg = results[\"neg\"]\n",
    "            \n",
    "            # print(results)\n",
    "            \n",
    "            # Add each value to the appropriate list\n",
    "            username_list.append(user)\n",
    "            tweets_ago.append(counter)\n",
    "            compound_list.append(compound)\n",
    "            positive_list.append(pos)\n",
    "            negative_list.append(neg)\n",
    "            neutral_list.append(neu)\n",
    "            \n",
    "            counter = counter + 1\n",
    "\n",
    "# Create a dictionaty of results\n",
    "user_results = {\n",
    "    \"Username\": username_list,\n",
    "    \"Tweets Ago\":tweets_ago,\n",
    "    \"Compound Score\": compound_list,\n",
    "    \"Postive Score\": positive_list,\n",
    "    \"Neutral Score\": neutral_list,\n",
    "    \"Negative Score\": negative_list\n",
    "}"
   ]
  },
  {
   "cell_type": "code",
   "execution_count": 4,
   "metadata": {
    "scrolled": true
   },
   "outputs": [
    {
     "data": {
      "text/html": [
       "<div>\n",
       "<style scoped>\n",
       "    .dataframe tbody tr th:only-of-type {\n",
       "        vertical-align: middle;\n",
       "    }\n",
       "\n",
       "    .dataframe tbody tr th {\n",
       "        vertical-align: top;\n",
       "    }\n",
       "\n",
       "    .dataframe thead th {\n",
       "        text-align: right;\n",
       "    }\n",
       "</style>\n",
       "<table border=\"1\" class=\"dataframe\">\n",
       "  <thead>\n",
       "    <tr style=\"text-align: right;\">\n",
       "      <th></th>\n",
       "      <th>Compound Score</th>\n",
       "      <th>Negative Score</th>\n",
       "      <th>Neutral Score</th>\n",
       "      <th>Postive Score</th>\n",
       "      <th>Tweets Ago</th>\n",
       "    </tr>\n",
       "    <tr>\n",
       "      <th>Username</th>\n",
       "      <th></th>\n",
       "      <th></th>\n",
       "      <th></th>\n",
       "      <th></th>\n",
       "      <th></th>\n",
       "    </tr>\n",
       "  </thead>\n",
       "  <tbody>\n",
       "    <tr>\n",
       "      <th>@BBCWorld</th>\n",
       "      <td>0.000</td>\n",
       "      <td>0.000</td>\n",
       "      <td>1.000</td>\n",
       "      <td>0.000</td>\n",
       "      <td>0</td>\n",
       "    </tr>\n",
       "    <tr>\n",
       "      <th>@BBCWorld</th>\n",
       "      <td>-0.477</td>\n",
       "      <td>0.279</td>\n",
       "      <td>0.721</td>\n",
       "      <td>0.000</td>\n",
       "      <td>1</td>\n",
       "    </tr>\n",
       "    <tr>\n",
       "      <th>@BBCWorld</th>\n",
       "      <td>-0.440</td>\n",
       "      <td>0.293</td>\n",
       "      <td>0.707</td>\n",
       "      <td>0.000</td>\n",
       "      <td>2</td>\n",
       "    </tr>\n",
       "    <tr>\n",
       "      <th>@BBCWorld</th>\n",
       "      <td>0.000</td>\n",
       "      <td>0.000</td>\n",
       "      <td>1.000</td>\n",
       "      <td>0.000</td>\n",
       "      <td>3</td>\n",
       "    </tr>\n",
       "    <tr>\n",
       "      <th>@BBCWorld</th>\n",
       "      <td>0.000</td>\n",
       "      <td>0.323</td>\n",
       "      <td>0.354</td>\n",
       "      <td>0.323</td>\n",
       "      <td>4</td>\n",
       "    </tr>\n",
       "  </tbody>\n",
       "</table>\n",
       "</div>"
      ],
      "text/plain": [
       "           Compound Score  Negative Score  Neutral Score  Postive Score  \\\n",
       "Username                                                                  \n",
       "@BBCWorld           0.000           0.000          1.000          0.000   \n",
       "@BBCWorld          -0.477           0.279          0.721          0.000   \n",
       "@BBCWorld          -0.440           0.293          0.707          0.000   \n",
       "@BBCWorld           0.000           0.000          1.000          0.000   \n",
       "@BBCWorld           0.000           0.323          0.354          0.323   \n",
       "\n",
       "           Tweets Ago  \n",
       "Username               \n",
       "@BBCWorld           0  \n",
       "@BBCWorld           1  \n",
       "@BBCWorld           2  \n",
       "@BBCWorld           3  \n",
       "@BBCWorld           4  "
      ]
     },
     "execution_count": 4,
     "metadata": {},
     "output_type": "execute_result"
    }
   ],
   "source": [
    "# Create DataFrame from Results List\n",
    "results_df = pd.DataFrame(user_results).set_index(\"Username\").round(3)\n",
    "results_df.head()"
   ]
  },
  {
   "cell_type": "code",
   "execution_count": 5,
   "metadata": {
    "scrolled": true
   },
   "outputs": [
    {
     "name": "stdout",
     "output_type": "stream",
     "text": [
      "Username\n",
      "@BBCWorld     0\n",
      "@BBCWorld     1\n",
      "@BBCWorld     2\n",
      "@BBCWorld     3\n",
      "@BBCWorld     4\n",
      "@BBCWorld     5\n",
      "@BBCWorld     6\n",
      "@BBCWorld     7\n",
      "@BBCWorld     8\n",
      "@BBCWorld     9\n",
      "@BBCWorld    10\n",
      "@BBCWorld    11\n",
      "@BBCWorld    12\n",
      "@BBCWorld    13\n",
      "@BBCWorld    14\n",
      "@BBCWorld    15\n",
      "@BBCWorld    16\n",
      "@BBCWorld    17\n",
      "@BBCWorld    18\n",
      "@BBCWorld    19\n",
      "@BBCWorld    20\n",
      "@BBCWorld    21\n",
      "@BBCWorld    22\n",
      "@BBCWorld    23\n",
      "@BBCWorld    24\n",
      "@BBCWorld    25\n",
      "@BBCWorld    26\n",
      "@BBCWorld    27\n",
      "@BBCWorld    28\n",
      "@BBCWorld    29\n",
      "             ..\n",
      "@nytimes     70\n",
      "@nytimes     71\n",
      "@nytimes     72\n",
      "@nytimes     73\n",
      "@nytimes     74\n",
      "@nytimes     75\n",
      "@nytimes     76\n",
      "@nytimes     77\n",
      "@nytimes     78\n",
      "@nytimes     79\n",
      "@nytimes     80\n",
      "@nytimes     81\n",
      "@nytimes     82\n",
      "@nytimes     83\n",
      "@nytimes     84\n",
      "@nytimes     85\n",
      "@nytimes     86\n",
      "@nytimes     87\n",
      "@nytimes     88\n",
      "@nytimes     89\n",
      "@nytimes     90\n",
      "@nytimes     91\n",
      "@nytimes     92\n",
      "@nytimes     93\n",
      "@nytimes     94\n",
      "@nytimes     95\n",
      "@nytimes     96\n",
      "@nytimes     97\n",
      "@nytimes     98\n",
      "@nytimes     99\n",
      "Name: Tweets Ago, Length: 500, dtype: int64\n",
      "Username\n",
      "@BBCWorld    0.000\n",
      "@BBCWorld   -0.477\n",
      "@BBCWorld   -0.440\n",
      "@BBCWorld    0.000\n",
      "@BBCWorld    0.000\n",
      "@BBCWorld   -0.361\n",
      "@BBCWorld    0.000\n",
      "@BBCWorld    0.000\n",
      "@BBCWorld   -0.527\n",
      "@BBCWorld   -0.177\n",
      "@BBCWorld    0.000\n",
      "@BBCWorld   -0.784\n",
      "@BBCWorld   -0.351\n",
      "@BBCWorld    0.000\n",
      "@BBCWorld    0.291\n",
      "@BBCWorld    0.000\n",
      "@BBCWorld   -0.477\n",
      "@BBCWorld   -0.612\n",
      "@BBCWorld    0.700\n",
      "@BBCWorld    0.000\n",
      "@BBCWorld    0.000\n",
      "@BBCWorld    0.382\n",
      "@BBCWorld   -0.612\n",
      "@BBCWorld   -0.340\n",
      "@BBCWorld   -0.670\n",
      "@BBCWorld    0.000\n",
      "@BBCWorld    0.000\n",
      "@BBCWorld   -0.660\n",
      "@BBCWorld   -0.923\n",
      "@BBCWorld    0.361\n",
      "             ...  \n",
      "@nytimes    -0.772\n",
      "@nytimes     0.026\n",
      "@nytimes    -0.612\n",
      "@nytimes    -0.382\n",
      "@nytimes     0.052\n",
      "@nytimes    -0.153\n",
      "@nytimes     0.459\n",
      "@nytimes    -0.772\n",
      "@nytimes     0.000\n",
      "@nytimes     0.273\n",
      "@nytimes    -0.660\n",
      "@nytimes    -0.700\n",
      "@nytimes     0.527\n",
      "@nytimes     0.278\n",
      "@nytimes     0.422\n",
      "@nytimes     0.026\n",
      "@nytimes    -0.340\n",
      "@nytimes     0.422\n",
      "@nytimes     0.000\n",
      "@nytimes    -0.250\n",
      "@nytimes     0.273\n",
      "@nytimes    -0.586\n",
      "@nytimes     0.273\n",
      "@nytimes     0.000\n",
      "@nytimes     0.612\n",
      "@nytimes    -0.557\n",
      "@nytimes     0.361\n",
      "@nytimes     0.599\n",
      "@nytimes     0.273\n",
      "@nytimes    -0.103\n",
      "Name: Compound Score, Length: 500, dtype: float64\n"
     ]
    }
   ],
   "source": [
    "# Create plot\n",
    "x_vals = results_df[\"Tweets Ago\"]\n",
    "print(x_vals)\n",
    "\n",
    "y_vals = results_df[\"Compound Score\"]\n",
    "print(y_vals)"
   ]
  },
  {
   "cell_type": "code",
   "execution_count": 6,
   "metadata": {
    "scrolled": true
   },
   "outputs": [
    {
     "data": {
      "text/plain": [
       "Text(0,0.5,'Tweet Polarity')"
      ]
     },
     "execution_count": 6,
     "metadata": {},
     "output_type": "execute_result"
    },
    {
     "data": {
      "image/png": "[encoded data removed]",
      "text/plain": [
       "<Figure size 432x288 with 1 Axes>"
      ]
     },
     "metadata": {},
     "output_type": "display_data"
    }
   ],
   "source": [
    "# Create scatter plot using matplotlib\n",
    "plt.scatter(x_vals,\n",
    "         y_vals, marker=\"o\", linewidth=0.5,\n",
    "         alpha=0.8)\n",
    "plt.title(\"Sentiment Analysis of Media Tweets as of (04/09/18)\")\n",
    "plt.xlabel(\"Tweets Ago\")\n",
    "plt.ylabel(\"Tweet Polarity\")"
   ]
  },
  {
   "cell_type": "code",
   "execution_count": null,
   "metadata": {},
   "outputs": [],
   "source": []
  },
  {
   "cell_type": "code",
   "execution_count": 7,
   "metadata": {},
   "outputs": [],
   "source": [
    "# Create bar chart using matplotlib\n",
    "# Add some text for labels, title and custom x-axis tick labels, etc.\n",
    "x_axis = np.arange(len(y_vals))"
   ]
  },
  {
   "cell_type": "code",
   "execution_count": 39,
   "metadata": {},
   "outputs": [],
   "source": [
    "BBC_bar = np.mean(results_df.loc['@BBCWorld'][\"Compound Score\"])\n",
    "CBSNews_bar = np.mean(results_df.loc['@CBSNews'][\"Compound Score\"])\n",
    "CNN_bar = np.mean(results_df.loc['@CNN'][\"Compound Score\"])\n",
    "FoxNews_bar = np.mean(results_df.loc['@FoxNews'][\"Compound Score\"])\n",
    "NYTimes_bar = np.mean(results_df.loc['@nytimes'][\"Compound Score\"])"
   ]
  },
  {
   "cell_type": "code",
   "execution_count": 40,
   "metadata": {},
   "outputs": [
    {
     "data": {
      "text/plain": [
       "<BarContainer object of 1 artists>"
      ]
     },
     "execution_count": 40,
     "metadata": {},
     "output_type": "execute_result"
    },
    {
     "data": {
      "image/png": "[encoded data removed]",
      "text/plain": [
       "<Figure size 432x288 with 1 Axes>"
      ]
     },
     "metadata": {},
     "output_type": "display_data"
    }
   ],
   "source": [
    "plt.bar('BBC',.2, facecolor = \"blue\", alpha=0.75, align=\"center\")\n",
    "plt.bar('CBS News', CBSNews_bar, facecolor = \"red\", alpha=0.75, align=\"center\")\n",
    "plt.bar('CNN', CNN_bar, facecolor = \"cyan\", alpha=0.75, align=\"center\")\n",
    "plt.bar('Fox News', FoxNews_bar, facecolor = \"green\", alpha=0.75, align=\"center\")\n",
    "plt.bar('NY Times', NYTimes_bar, facecolor = \"yellow\", alpha=0.75, align=\"center\")"
   ]
  },
  {
   "cell_type": "code",
   "execution_count": 47,
   "metadata": {},
   "outputs": [],
   "source": [
    "r = results_df.reset_index()"
   ]
  },
  {
   "cell_type": "code",
   "execution_count": 53,
   "metadata": {},
   "outputs": [
    {
     "data": {
      "text/plain": [
       "Text(-7.95,0.5,'Tweet Polarity')"
      ]
     },
     "execution_count": 53,
     "metadata": {},
     "output_type": "execute_result"
    },
    {
     "data": {
      "image/png": "[encoded data removed]",
      "text/plain": [
       "<Figure size 360x360 with 1 Axes>"
      ]
     },
     "metadata": {},
     "output_type": "display_data"
    }
   ],
   "source": [
    "# library & dataset \n",
    "# --- Use the 'palette' argument of seaborn\n",
    "sns.lmplot(x = \"Tweets Ago\", y = \"Compound Score\", data = r, hue = \"Username\", fit_reg=False, legend=False, palette=\"Set3\")\n",
    "plt.legend(loc='best')\n",
    "plt.title(\"Sentiment Analysis of Media Tweets as of (04/09/18)\")\n",
    "plt.ylabel(\"Tweet Polarity\")"
   ]
  },
  {
   "cell_type": "code",
   "execution_count": null,
   "metadata": {},
   "outputs": [],
   "source": []
  },
  {
   "cell_type": "code",
   "execution_count": null,
   "metadata": {},
   "outputs": [],
   "source": []
  },
  {
   "cell_type": "code",
   "execution_count": null,
   "metadata": {},
   "outputs": [],
   "source": []
  },
  {
   "cell_type": "code",
   "execution_count": null,
   "metadata": {},
   "outputs": [],
   "source": []
  }
 ],
 "metadata": {
  "kernelspec": {
   "display_name": "Python 3",
   "language": "python",
   "name": "python3"
  },
  "language_info": {
   "codemirror_mode": {
    "name": "ipython",
    "version": 3
   },
   "file_extension": ".py",
   "mimetype": "text/x-python",
   "name": "python",
   "nbconvert_exporter": "python",
   "pygments_lexer": "ipython3",
   "version": "3.6.5"
  }
 },
 "nbformat": 4,
 "nbformat_minor": 2
}
